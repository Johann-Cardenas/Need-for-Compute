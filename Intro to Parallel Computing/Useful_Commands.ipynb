{
 "cells": [
  {
   "cell_type": "markdown",
   "metadata": {},
   "source": [
    "### **Output CPU Information**"
   ]
  },
  {
   "cell_type": "markdown",
   "metadata": {},
   "source": [
    "```bash\n",
    "sbatch --partition=alqadi -o lscpu_output.txt --wrap=\"lscpu\"\n",
    "sbatch --partition=alqadi-himem -o lscpu_output.txt --wrap=\"lscpu\"\n",
    "```\n",
    "\n",
    "**Alternatively:**\n",
    "First start a session:\n",
    "```bash\n",
    "srun --partition=alqadi-himem --pty /bin/bash\n",
    "```\n",
    "Then run the command:\n",
    "```bash\n",
    "lscpu\n",
    "```"
   ]
  },
  {
   "cell_type": "markdown",
   "metadata": {},
   "source": [
    "### **Output Node Memory**"
   ]
  },
  {
   "cell_type": "markdown",
   "metadata": {},
   "source": [
    "```bash\n",
    "free -m\n",
    "```"
   ]
  },
  {
   "cell_type": "markdown",
   "metadata": {},
   "source": [
    "### **Output Partition Information**"
   ]
  },
  {
   "cell_type": "markdown",
   "metadata": {},
   "source": [
    "```bash\n",
    "sinfo -p trial\n",
    "```"
   ]
  }
 ],
 "metadata": {
  "language_info": {
   "name": "python"
  }
 },
 "nbformat": 4,
 "nbformat_minor": 2
}
