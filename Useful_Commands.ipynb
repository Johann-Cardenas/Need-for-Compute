{
 "cells": [
  {
   "cell_type": "markdown",
   "metadata": {},
   "source": [
    "### **Log-in to the Illinois Campus Cluster**\n",
    "\n",
    "Open your terminal and input the following command:\n",
    "```bash\n",
    "ssh -l johannc2 cc-login1.campuscluster.illinois.edu\n",
    "```"
   ]
  },
  {
   "cell_type": "markdown",
   "metadata": {},
   "source": [
    "### **Navigating the File System**\n",
    "\n",
    "- `pwd` : Verify current folder\n",
    "- `ls` : List file/folders in current directory\n",
    "- `cd` : Change directory\n",
    "    - `cd .` : Go to current directory\n",
    "    - `cd ..` : Go back one directory\n",
    "    - `cd ~` : Go to home directory\n",
    "    - `cd -` : Go to previous directory\n",
    "- `mkdir` : Create a new directory\n",
    "- `rmdir` : Remove a directory\n",
    "- `rm` : Remove a file\n",
    "\n",
    "- `cp` : Copy a file\n",
    "- `mv` : Move a file\n",
    "- `cat` : Display the content of a file\n",
    "- `head` : Display the first lines of a file\n",
    "- `find` : Search for a file in a directory\n",
    "- `wc` : Count the number of lines, words, and characters in a file\n",
    "- `quota` : Verify you usage in each area"
   ]
  },
  {
   "cell_type": "markdown",
   "metadata": {},
   "source": [
    "### **Working with Modules**\n",
    "\n",
    "- `module list` : Verify current folder\n",
    "- `module avail` : List file/folders in current directory\n",
    "- `module help <module_file>` : Change directory\n",
    "- `module load <module_file>` : Create a new directory\n",
    "- `module unload <module_file>` : Remove a directory"
   ]
  },
  {
   "cell_type": "markdown",
   "metadata": {},
   "source": [
    "### **Clone a Git Repository**\n",
    "\n",
    "```bash\n",
    "module load git\n",
    "git clone --branch uiuc-icc --single-branch https://github.com/babreu-ncsa/IntroToPC.git\n",
    "```\n",
    "\n",
    "**Note:** Here, `module load git` will load (by default) `git/2.19.0`\n",
    "Some other repositories to clone are:\n",
    "- `IntroToPC`\n",
    "- `IntroToOpenMP`\n",
    "- `IntroToMPI` : MPI stands for Message Passing Interface."
   ]
  },
  {
   "cell_type": "markdown",
   "metadata": {},
   "source": [
    "### **Code Compilation**\n",
    "\n",
    "```bash\n",
    "compiler <SourceCode> -o <TargetBinary>\n",
    "gcc MyProg.c -o MyProg.exe\n",
    "g++ MyProg.cpp -o MyProg.exe\n",
    "gfortran MyProg.f -o MyProg.exe\n",
    "icc MyProg.cpp -o MyProg.exe\n",
    "```\n",
    "\n",
    "- `gcc`: compiles C code\n",
    "- `g++`: compiles C++ code\n",
    "- `gfortran`: compiles Fortran code\n",
    "\n",
    "Check the version of the GNU compiler:\n",
    "```bash\n",
    "gcc --version\n",
    "```"
   ]
  },
  {
   "cell_type": "markdown",
   "metadata": {},
   "source": [
    "### **Code Compilation (OMP)**\n",
    "\n",
    "```bash\n",
    "compiler -[OpenMP flag] <SourceCode> -o <TargetBinary>\n",
    "g++ -fopenmp hello_omp.cpp -o hello_omp.exe\n",
    "```\n",
    "\n",
    "Other compilers:\n",
    "- GCC: `-fopenmp`\n",
    "- Intel: `-qopenmp`\n",
    "- AOCC: `-fopenmp`\n",
    "\n",
    "if there is a `Makefile`:\n",
    "```bash\n",
    "module load gcc\n",
    "make\n",
    "```"
   ]
  },
  {
   "cell_type": "markdown",
   "metadata": {},
   "source": [
    "### **Loading a Compiler**\n",
    "\n",
    "You can load a compiler using the following command:\n",
    "```bash\n",
    "module load intel/18.0\n",
    "```\n",
    "The compiler choice will depend on the programming language."
   ]
  },
  {
   "cell_type": "markdown",
   "metadata": {},
   "source": [
    "### **Output CPU Information**\n",
    "\n",
    "```bash\n",
    "sbatch --partition=alqadi -o lscpu_output.txt --wrap=\"lscpu\"\n",
    "sbatch --partition=alqadi-himem -o lscpu_output.txt --wrap=\"lscpu\"\n",
    "```\n",
    "\n",
    "**Alternatively:**\n",
    "First start a session:\n",
    "```bash\n",
    "srun --partition=alqadi-himem --pty /bin/bash\n",
    "```\n",
    "Then run the command:\n",
    "```bash\n",
    "lscpu\n",
    "```\n",
    "Finally, exit the session:\n",
    "```bash\n",
    "exit\n",
    "```"
   ]
  },
  {
   "cell_type": "markdown",
   "metadata": {},
   "source": [
    "### **Output Node Memory**\n",
    "\n",
    "```bash\n",
    "free -m\n",
    "```"
   ]
  },
  {
   "cell_type": "markdown",
   "metadata": {},
   "source": [
    "### **Output Partition Information**\n",
    "\n",
    "```bash\n",
    "sinfo -p trial\n",
    "```"
   ]
  },
  {
   "cell_type": "markdown",
   "metadata": {},
   "source": [
    "### **Transfer Files with SCP**\n",
    "\n",
    "```bash\n",
    "scp johannc2@cc-xfer.campuscluster.illinois.edu: ~/HelloWorld/HelloWorld.out .\n",
    "```"
   ]
  },
  {
   "cell_type": "markdown",
   "metadata": {},
   "source": []
  }
 ],
 "metadata": {
  "language_info": {
   "name": "python"
  }
 },
 "nbformat": 4,
 "nbformat_minor": 2
}
